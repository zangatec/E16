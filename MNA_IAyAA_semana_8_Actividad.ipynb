{
  "nbformat": 4,
  "nbformat_minor": 0,
  "metadata": {
    "colab": {
      "provenance": [],
      "collapsed_sections": [],
      "include_colab_link": true
    },
    "kernelspec": {
      "display_name": "Python 3",
      "name": "python3"
    }
  },
  "cells": [
    {
      "cell_type": "markdown",
      "metadata": {
        "id": "view-in-github",
        "colab_type": "text"
      },
      "source": [
        "<a href=\"https://colab.research.google.com/github/zangatec/E16/blob/main/MNA_IAyAA_semana_8_Actividad.ipynb\" target=\"_parent\"><img src=\"https://colab.research.google.com/assets/colab-badge.svg\" alt=\"Open In Colab\"/></a>"
      ]
    },
    {
      "cell_type": "markdown",
      "source": [
        "#**Maestría en Inteligencia Artificial Aplicada**\n",
        "##**Curso: Inteligencia Artificial y Aprendizaje Automático**\n",
        "###Tecnológico de Monterrey\n",
        "###Prof Luis Eduardo Falcón Morales\n",
        "\n",
        "## **Adtividad de la Semana 8**\n",
        "###**Máquina de Vector Soporte - Support Vector Machine(SVM)**\n"
      ],
      "metadata": {
        "id": "VFj0sSM06dYa"
      }
    },
    {
      "cell_type": "markdown",
      "source": [
        "**Nombres y matrículas de los integrantes del equipo:**\n",
        "\n",
        "*   Andrea Carolina Treviño Garza A01034993\n",
        "*   David Winterman Hemilson A00919441\n",
        "*   Pedro Ulises Meléndez Ortega A00716301\n",
        "*   José David Hernández Navarro A01793121\n"
      ],
      "metadata": {
        "id": "Qgrvy0RGB9XI"
      }
    },
    {
      "cell_type": "markdown",
      "source": [
        "En cada sección deberás incluir todas las líneas de código necesarias para responder a cada uno de los ejercicios."
      ],
      "metadata": {
        "id": "FrJ2ahMODVj1"
      }
    },
    {
      "cell_type": "code",
      "source": [
        "# Incluye aquí todos módulos, librerías y paquetes que requieras.\n",
        "import pandas as pd\n",
        "import numpy as np\n",
        "import matplotlib.pyplot as plt \n",
        "import seaborn as sns\n",
        "\n",
        "from sklearn.model_selection import train_test_split\n",
        "from sklearn.pipeline import Pipeline\n",
        "from sklearn.impute import SimpleImputer\n",
        "from sklearn.preprocessing import MinMaxScaler, OneHotEncoder, StandardScaler\n",
        "from sklearn.preprocessing import FunctionTransformer \n",
        "from sklearn.compose import ColumnTransformer\n",
        "\n",
        "from sklearn.dummy import DummyClassifier\n",
        "from sklearn.metrics import recall_score, precision_score, f1_score, SCORERS, RocCurveDisplay, roc_curve, confusion_matrix\n",
        "from imblearn.metrics import geometric_mean_score\n",
        "\n",
        "from sklearn import svm\n",
        "from sklearn.model_selection import RepeatedStratifiedKFold\n",
        "from sklearn.model_selection import GridSearchCV\n",
        "from sklearn.model_selection import cross_validate\n",
        "from sklearn.model_selection import learning_curve\n",
        "from sklearn.model_selection import validation_curve"
      ],
      "metadata": {
        "id": "exXsscs-Dh-2"
      },
      "execution_count": 40,
      "outputs": []
    },
    {
      "cell_type": "markdown",
      "metadata": {
        "id": "X25brD-gQdZM"
      },
      "source": [
        "#**Ejercicio-1.** "
      ]
    },
    {
      "cell_type": "code",
      "source": [
        "#Se guardar archivo \"australian.dat\" en dataframe df.\n",
        "df=pd.read_csv(\"https://archive.ics.uci.edu/ml/machine-learning-databases/statlog/australian/australian.dat\",delim_whitespace=True, header=None)\n",
        "df.head()"
      ],
      "metadata": {
        "id": "3nU2GuWYCy6C",
        "colab": {
          "base_uri": "https://localhost:8080/",
          "height": 206
        },
        "outputId": "b4f967ac-b094-4cf1-8fe2-3fb5a3d547d3"
      },
      "execution_count": 2,
      "outputs": [
        {
          "output_type": "execute_result",
          "data": {
            "text/plain": [
              "   0      1      2   3   4   5      6   7   8   9   10  11   12    13  14\n",
              "0   1  22.08  11.46   2   4   4  1.585   0   0   0   1   2  100  1213   0\n",
              "1   0  22.67   7.00   2   8   4  0.165   0   0   0   0   2  160     1   0\n",
              "2   0  29.58   1.75   1   4   4  1.250   0   0   0   1   2  280     1   0\n",
              "3   0  21.67  11.50   1   5   3  0.000   1   1  11   1   2    0     1   1\n",
              "4   1  20.17   8.17   2   6   4  1.960   1   1  14   0   2   60   159   1"
            ],
            "text/html": [
              "\n",
              "  <div id=\"df-7bd7b1db-734d-44fc-9371-cedd0d5a7bd1\">\n",
              "    <div class=\"colab-df-container\">\n",
              "      <div>\n",
              "<style scoped>\n",
              "    .dataframe tbody tr th:only-of-type {\n",
              "        vertical-align: middle;\n",
              "    }\n",
              "\n",
              "    .dataframe tbody tr th {\n",
              "        vertical-align: top;\n",
              "    }\n",
              "\n",
              "    .dataframe thead th {\n",
              "        text-align: right;\n",
              "    }\n",
              "</style>\n",
              "<table border=\"1\" class=\"dataframe\">\n",
              "  <thead>\n",
              "    <tr style=\"text-align: right;\">\n",
              "      <th></th>\n",
              "      <th>0</th>\n",
              "      <th>1</th>\n",
              "      <th>2</th>\n",
              "      <th>3</th>\n",
              "      <th>4</th>\n",
              "      <th>5</th>\n",
              "      <th>6</th>\n",
              "      <th>7</th>\n",
              "      <th>8</th>\n",
              "      <th>9</th>\n",
              "      <th>10</th>\n",
              "      <th>11</th>\n",
              "      <th>12</th>\n",
              "      <th>13</th>\n",
              "      <th>14</th>\n",
              "    </tr>\n",
              "  </thead>\n",
              "  <tbody>\n",
              "    <tr>\n",
              "      <th>0</th>\n",
              "      <td>1</td>\n",
              "      <td>22.08</td>\n",
              "      <td>11.46</td>\n",
              "      <td>2</td>\n",
              "      <td>4</td>\n",
              "      <td>4</td>\n",
              "      <td>1.585</td>\n",
              "      <td>0</td>\n",
              "      <td>0</td>\n",
              "      <td>0</td>\n",
              "      <td>1</td>\n",
              "      <td>2</td>\n",
              "      <td>100</td>\n",
              "      <td>1213</td>\n",
              "      <td>0</td>\n",
              "    </tr>\n",
              "    <tr>\n",
              "      <th>1</th>\n",
              "      <td>0</td>\n",
              "      <td>22.67</td>\n",
              "      <td>7.00</td>\n",
              "      <td>2</td>\n",
              "      <td>8</td>\n",
              "      <td>4</td>\n",
              "      <td>0.165</td>\n",
              "      <td>0</td>\n",
              "      <td>0</td>\n",
              "      <td>0</td>\n",
              "      <td>0</td>\n",
              "      <td>2</td>\n",
              "      <td>160</td>\n",
              "      <td>1</td>\n",
              "      <td>0</td>\n",
              "    </tr>\n",
              "    <tr>\n",
              "      <th>2</th>\n",
              "      <td>0</td>\n",
              "      <td>29.58</td>\n",
              "      <td>1.75</td>\n",
              "      <td>1</td>\n",
              "      <td>4</td>\n",
              "      <td>4</td>\n",
              "      <td>1.250</td>\n",
              "      <td>0</td>\n",
              "      <td>0</td>\n",
              "      <td>0</td>\n",
              "      <td>1</td>\n",
              "      <td>2</td>\n",
              "      <td>280</td>\n",
              "      <td>1</td>\n",
              "      <td>0</td>\n",
              "    </tr>\n",
              "    <tr>\n",
              "      <th>3</th>\n",
              "      <td>0</td>\n",
              "      <td>21.67</td>\n",
              "      <td>11.50</td>\n",
              "      <td>1</td>\n",
              "      <td>5</td>\n",
              "      <td>3</td>\n",
              "      <td>0.000</td>\n",
              "      <td>1</td>\n",
              "      <td>1</td>\n",
              "      <td>11</td>\n",
              "      <td>1</td>\n",
              "      <td>2</td>\n",
              "      <td>0</td>\n",
              "      <td>1</td>\n",
              "      <td>1</td>\n",
              "    </tr>\n",
              "    <tr>\n",
              "      <th>4</th>\n",
              "      <td>1</td>\n",
              "      <td>20.17</td>\n",
              "      <td>8.17</td>\n",
              "      <td>2</td>\n",
              "      <td>6</td>\n",
              "      <td>4</td>\n",
              "      <td>1.960</td>\n",
              "      <td>1</td>\n",
              "      <td>1</td>\n",
              "      <td>14</td>\n",
              "      <td>0</td>\n",
              "      <td>2</td>\n",
              "      <td>60</td>\n",
              "      <td>159</td>\n",
              "      <td>1</td>\n",
              "    </tr>\n",
              "  </tbody>\n",
              "</table>\n",
              "</div>\n",
              "      <button class=\"colab-df-convert\" onclick=\"convertToInteractive('df-7bd7b1db-734d-44fc-9371-cedd0d5a7bd1')\"\n",
              "              title=\"Convert this dataframe to an interactive table.\"\n",
              "              style=\"display:none;\">\n",
              "        \n",
              "  <svg xmlns=\"http://www.w3.org/2000/svg\" height=\"24px\"viewBox=\"0 0 24 24\"\n",
              "       width=\"24px\">\n",
              "    <path d=\"M0 0h24v24H0V0z\" fill=\"none\"/>\n",
              "    <path d=\"M18.56 5.44l.94 2.06.94-2.06 2.06-.94-2.06-.94-.94-2.06-.94 2.06-2.06.94zm-11 1L8.5 8.5l.94-2.06 2.06-.94-2.06-.94L8.5 2.5l-.94 2.06-2.06.94zm10 10l.94 2.06.94-2.06 2.06-.94-2.06-.94-.94-2.06-.94 2.06-2.06.94z\"/><path d=\"M17.41 7.96l-1.37-1.37c-.4-.4-.92-.59-1.43-.59-.52 0-1.04.2-1.43.59L10.3 9.45l-7.72 7.72c-.78.78-.78 2.05 0 2.83L4 21.41c.39.39.9.59 1.41.59.51 0 1.02-.2 1.41-.59l7.78-7.78 2.81-2.81c.8-.78.8-2.07 0-2.86zM5.41 20L4 18.59l7.72-7.72 1.47 1.35L5.41 20z\"/>\n",
              "  </svg>\n",
              "      </button>\n",
              "      \n",
              "  <style>\n",
              "    .colab-df-container {\n",
              "      display:flex;\n",
              "      flex-wrap:wrap;\n",
              "      gap: 12px;\n",
              "    }\n",
              "\n",
              "    .colab-df-convert {\n",
              "      background-color: #E8F0FE;\n",
              "      border: none;\n",
              "      border-radius: 50%;\n",
              "      cursor: pointer;\n",
              "      display: none;\n",
              "      fill: #1967D2;\n",
              "      height: 32px;\n",
              "      padding: 0 0 0 0;\n",
              "      width: 32px;\n",
              "    }\n",
              "\n",
              "    .colab-df-convert:hover {\n",
              "      background-color: #E2EBFA;\n",
              "      box-shadow: 0px 1px 2px rgba(60, 64, 67, 0.3), 0px 1px 3px 1px rgba(60, 64, 67, 0.15);\n",
              "      fill: #174EA6;\n",
              "    }\n",
              "\n",
              "    [theme=dark] .colab-df-convert {\n",
              "      background-color: #3B4455;\n",
              "      fill: #D2E3FC;\n",
              "    }\n",
              "\n",
              "    [theme=dark] .colab-df-convert:hover {\n",
              "      background-color: #434B5C;\n",
              "      box-shadow: 0px 1px 3px 1px rgba(0, 0, 0, 0.15);\n",
              "      filter: drop-shadow(0px 1px 2px rgba(0, 0, 0, 0.3));\n",
              "      fill: #FFFFFF;\n",
              "    }\n",
              "  </style>\n",
              "\n",
              "      <script>\n",
              "        const buttonEl =\n",
              "          document.querySelector('#df-7bd7b1db-734d-44fc-9371-cedd0d5a7bd1 button.colab-df-convert');\n",
              "        buttonEl.style.display =\n",
              "          google.colab.kernel.accessAllowed ? 'block' : 'none';\n",
              "\n",
              "        async function convertToInteractive(key) {\n",
              "          const element = document.querySelector('#df-7bd7b1db-734d-44fc-9371-cedd0d5a7bd1');\n",
              "          const dataTable =\n",
              "            await google.colab.kernel.invokeFunction('convertToInteractive',\n",
              "                                                     [key], {});\n",
              "          if (!dataTable) return;\n",
              "\n",
              "          const docLinkHtml = 'Like what you see? Visit the ' +\n",
              "            '<a target=\"_blank\" href=https://colab.research.google.com/notebooks/data_table.ipynb>data table notebook</a>'\n",
              "            + ' to learn more about interactive tables.';\n",
              "          element.innerHTML = '';\n",
              "          dataTable['output_type'] = 'display_data';\n",
              "          await google.colab.output.renderOutput(dataTable, element);\n",
              "          const docLink = document.createElement('div');\n",
              "          docLink.innerHTML = docLinkHtml;\n",
              "          element.appendChild(docLink);\n",
              "        }\n",
              "      </script>\n",
              "    </div>\n",
              "  </div>\n",
              "  "
            ]
          },
          "metadata": {},
          "execution_count": 2
        }
      ]
    },
    {
      "cell_type": "code",
      "source": [
        "df.columns=[\"A1\", \"A2\", \"A3\", \"A4\", \"A5\", \"A6\", \"A7\", \"A8\", \"A9\", \"A10\", \"A11\", \"A12\", \"A13\", \"A14\", \"A15\"]\n",
        "df.head()"
      ],
      "metadata": {
        "colab": {
          "base_uri": "https://localhost:8080/",
          "height": 206
        },
        "id": "uUaIOTpjQK4u",
        "outputId": "5978f7b5-51d6-4b69-8e63-0f45f05db0cd"
      },
      "execution_count": 3,
      "outputs": [
        {
          "output_type": "execute_result",
          "data": {
            "text/plain": [
              "   A1     A2     A3  A4  A5  A6     A7  A8  A9  A10  A11  A12  A13   A14  A15\n",
              "0   1  22.08  11.46   2   4   4  1.585   0   0    0    1    2  100  1213    0\n",
              "1   0  22.67   7.00   2   8   4  0.165   0   0    0    0    2  160     1    0\n",
              "2   0  29.58   1.75   1   4   4  1.250   0   0    0    1    2  280     1    0\n",
              "3   0  21.67  11.50   1   5   3  0.000   1   1   11    1    2    0     1    1\n",
              "4   1  20.17   8.17   2   6   4  1.960   1   1   14    0    2   60   159    1"
            ],
            "text/html": [
              "\n",
              "  <div id=\"df-251d1d47-2380-4f72-86b7-abacdf7ecba3\">\n",
              "    <div class=\"colab-df-container\">\n",
              "      <div>\n",
              "<style scoped>\n",
              "    .dataframe tbody tr th:only-of-type {\n",
              "        vertical-align: middle;\n",
              "    }\n",
              "\n",
              "    .dataframe tbody tr th {\n",
              "        vertical-align: top;\n",
              "    }\n",
              "\n",
              "    .dataframe thead th {\n",
              "        text-align: right;\n",
              "    }\n",
              "</style>\n",
              "<table border=\"1\" class=\"dataframe\">\n",
              "  <thead>\n",
              "    <tr style=\"text-align: right;\">\n",
              "      <th></th>\n",
              "      <th>A1</th>\n",
              "      <th>A2</th>\n",
              "      <th>A3</th>\n",
              "      <th>A4</th>\n",
              "      <th>A5</th>\n",
              "      <th>A6</th>\n",
              "      <th>A7</th>\n",
              "      <th>A8</th>\n",
              "      <th>A9</th>\n",
              "      <th>A10</th>\n",
              "      <th>A11</th>\n",
              "      <th>A12</th>\n",
              "      <th>A13</th>\n",
              "      <th>A14</th>\n",
              "      <th>A15</th>\n",
              "    </tr>\n",
              "  </thead>\n",
              "  <tbody>\n",
              "    <tr>\n",
              "      <th>0</th>\n",
              "      <td>1</td>\n",
              "      <td>22.08</td>\n",
              "      <td>11.46</td>\n",
              "      <td>2</td>\n",
              "      <td>4</td>\n",
              "      <td>4</td>\n",
              "      <td>1.585</td>\n",
              "      <td>0</td>\n",
              "      <td>0</td>\n",
              "      <td>0</td>\n",
              "      <td>1</td>\n",
              "      <td>2</td>\n",
              "      <td>100</td>\n",
              "      <td>1213</td>\n",
              "      <td>0</td>\n",
              "    </tr>\n",
              "    <tr>\n",
              "      <th>1</th>\n",
              "      <td>0</td>\n",
              "      <td>22.67</td>\n",
              "      <td>7.00</td>\n",
              "      <td>2</td>\n",
              "      <td>8</td>\n",
              "      <td>4</td>\n",
              "      <td>0.165</td>\n",
              "      <td>0</td>\n",
              "      <td>0</td>\n",
              "      <td>0</td>\n",
              "      <td>0</td>\n",
              "      <td>2</td>\n",
              "      <td>160</td>\n",
              "      <td>1</td>\n",
              "      <td>0</td>\n",
              "    </tr>\n",
              "    <tr>\n",
              "      <th>2</th>\n",
              "      <td>0</td>\n",
              "      <td>29.58</td>\n",
              "      <td>1.75</td>\n",
              "      <td>1</td>\n",
              "      <td>4</td>\n",
              "      <td>4</td>\n",
              "      <td>1.250</td>\n",
              "      <td>0</td>\n",
              "      <td>0</td>\n",
              "      <td>0</td>\n",
              "      <td>1</td>\n",
              "      <td>2</td>\n",
              "      <td>280</td>\n",
              "      <td>1</td>\n",
              "      <td>0</td>\n",
              "    </tr>\n",
              "    <tr>\n",
              "      <th>3</th>\n",
              "      <td>0</td>\n",
              "      <td>21.67</td>\n",
              "      <td>11.50</td>\n",
              "      <td>1</td>\n",
              "      <td>5</td>\n",
              "      <td>3</td>\n",
              "      <td>0.000</td>\n",
              "      <td>1</td>\n",
              "      <td>1</td>\n",
              "      <td>11</td>\n",
              "      <td>1</td>\n",
              "      <td>2</td>\n",
              "      <td>0</td>\n",
              "      <td>1</td>\n",
              "      <td>1</td>\n",
              "    </tr>\n",
              "    <tr>\n",
              "      <th>4</th>\n",
              "      <td>1</td>\n",
              "      <td>20.17</td>\n",
              "      <td>8.17</td>\n",
              "      <td>2</td>\n",
              "      <td>6</td>\n",
              "      <td>4</td>\n",
              "      <td>1.960</td>\n",
              "      <td>1</td>\n",
              "      <td>1</td>\n",
              "      <td>14</td>\n",
              "      <td>0</td>\n",
              "      <td>2</td>\n",
              "      <td>60</td>\n",
              "      <td>159</td>\n",
              "      <td>1</td>\n",
              "    </tr>\n",
              "  </tbody>\n",
              "</table>\n",
              "</div>\n",
              "      <button class=\"colab-df-convert\" onclick=\"convertToInteractive('df-251d1d47-2380-4f72-86b7-abacdf7ecba3')\"\n",
              "              title=\"Convert this dataframe to an interactive table.\"\n",
              "              style=\"display:none;\">\n",
              "        \n",
              "  <svg xmlns=\"http://www.w3.org/2000/svg\" height=\"24px\"viewBox=\"0 0 24 24\"\n",
              "       width=\"24px\">\n",
              "    <path d=\"M0 0h24v24H0V0z\" fill=\"none\"/>\n",
              "    <path d=\"M18.56 5.44l.94 2.06.94-2.06 2.06-.94-2.06-.94-.94-2.06-.94 2.06-2.06.94zm-11 1L8.5 8.5l.94-2.06 2.06-.94-2.06-.94L8.5 2.5l-.94 2.06-2.06.94zm10 10l.94 2.06.94-2.06 2.06-.94-2.06-.94-.94-2.06-.94 2.06-2.06.94z\"/><path d=\"M17.41 7.96l-1.37-1.37c-.4-.4-.92-.59-1.43-.59-.52 0-1.04.2-1.43.59L10.3 9.45l-7.72 7.72c-.78.78-.78 2.05 0 2.83L4 21.41c.39.39.9.59 1.41.59.51 0 1.02-.2 1.41-.59l7.78-7.78 2.81-2.81c.8-.78.8-2.07 0-2.86zM5.41 20L4 18.59l7.72-7.72 1.47 1.35L5.41 20z\"/>\n",
              "  </svg>\n",
              "      </button>\n",
              "      \n",
              "  <style>\n",
              "    .colab-df-container {\n",
              "      display:flex;\n",
              "      flex-wrap:wrap;\n",
              "      gap: 12px;\n",
              "    }\n",
              "\n",
              "    .colab-df-convert {\n",
              "      background-color: #E8F0FE;\n",
              "      border: none;\n",
              "      border-radius: 50%;\n",
              "      cursor: pointer;\n",
              "      display: none;\n",
              "      fill: #1967D2;\n",
              "      height: 32px;\n",
              "      padding: 0 0 0 0;\n",
              "      width: 32px;\n",
              "    }\n",
              "\n",
              "    .colab-df-convert:hover {\n",
              "      background-color: #E2EBFA;\n",
              "      box-shadow: 0px 1px 2px rgba(60, 64, 67, 0.3), 0px 1px 3px 1px rgba(60, 64, 67, 0.15);\n",
              "      fill: #174EA6;\n",
              "    }\n",
              "\n",
              "    [theme=dark] .colab-df-convert {\n",
              "      background-color: #3B4455;\n",
              "      fill: #D2E3FC;\n",
              "    }\n",
              "\n",
              "    [theme=dark] .colab-df-convert:hover {\n",
              "      background-color: #434B5C;\n",
              "      box-shadow: 0px 1px 3px 1px rgba(0, 0, 0, 0.15);\n",
              "      filter: drop-shadow(0px 1px 2px rgba(0, 0, 0, 0.3));\n",
              "      fill: #FFFFFF;\n",
              "    }\n",
              "  </style>\n",
              "\n",
              "      <script>\n",
              "        const buttonEl =\n",
              "          document.querySelector('#df-251d1d47-2380-4f72-86b7-abacdf7ecba3 button.colab-df-convert');\n",
              "        buttonEl.style.display =\n",
              "          google.colab.kernel.accessAllowed ? 'block' : 'none';\n",
              "\n",
              "        async function convertToInteractive(key) {\n",
              "          const element = document.querySelector('#df-251d1d47-2380-4f72-86b7-abacdf7ecba3');\n",
              "          const dataTable =\n",
              "            await google.colab.kernel.invokeFunction('convertToInteractive',\n",
              "                                                     [key], {});\n",
              "          if (!dataTable) return;\n",
              "\n",
              "          const docLinkHtml = 'Like what you see? Visit the ' +\n",
              "            '<a target=\"_blank\" href=https://colab.research.google.com/notebooks/data_table.ipynb>data table notebook</a>'\n",
              "            + ' to learn more about interactive tables.';\n",
              "          element.innerHTML = '';\n",
              "          dataTable['output_type'] = 'display_data';\n",
              "          await google.colab.output.renderOutput(dataTable, element);\n",
              "          const docLink = document.createElement('div');\n",
              "          docLink.innerHTML = docLinkHtml;\n",
              "          element.appendChild(docLink);\n",
              "        }\n",
              "      </script>\n",
              "    </div>\n",
              "  </div>\n",
              "  "
            ]
          },
          "metadata": {},
          "execution_count": 3
        }
      ]
    },
    {
      "cell_type": "code",
      "source": [
        "#Se revisa tamaño de conjunto\n",
        "df.shape"
      ],
      "metadata": {
        "colab": {
          "base_uri": "https://localhost:8080/"
        },
        "id": "ArzV5jtm8nWb",
        "outputId": "43e9bffc-69f3-4654-a6c8-4f6abe7ec841"
      },
      "execution_count": 4,
      "outputs": [
        {
          "output_type": "execute_result",
          "data": {
            "text/plain": [
              "(690, 15)"
            ]
          },
          "metadata": {},
          "execution_count": 4
        }
      ]
    },
    {
      "cell_type": "code",
      "source": [
        "#Se valida que no haya datos vacíos.\n",
        "df.isnull().any()"
      ],
      "metadata": {
        "id": "0ulkqXVGCy97",
        "colab": {
          "base_uri": "https://localhost:8080/"
        },
        "outputId": "8e65efda-91a2-4bc0-a616-17b674156355"
      },
      "execution_count": 5,
      "outputs": [
        {
          "output_type": "execute_result",
          "data": {
            "text/plain": [
              "A1     False\n",
              "A2     False\n",
              "A3     False\n",
              "A4     False\n",
              "A5     False\n",
              "A6     False\n",
              "A7     False\n",
              "A8     False\n",
              "A9     False\n",
              "A10    False\n",
              "A11    False\n",
              "A12    False\n",
              "A13    False\n",
              "A14    False\n",
              "A15    False\n",
              "dtype: bool"
            ]
          },
          "metadata": {},
          "execution_count": 5
        }
      ]
    },
    {
      "cell_type": "code",
      "source": [
        "#Se definen las variables de entrada y salida:\n",
        "X = df.iloc[:, 0:14:1]\n",
        "Y = df.iloc[:,-1:]\n",
        "\n",
        "print(X.shape)\n",
        "print(Y.shape)"
      ],
      "metadata": {
        "colab": {
          "base_uri": "https://localhost:8080/"
        },
        "id": "ltFyi2-U8uIn",
        "outputId": "f226048b-1d27-498f-8d8b-a5d76f0a33f4"
      },
      "execution_count": 6,
      "outputs": [
        {
          "output_type": "stream",
          "name": "stdout",
          "text": [
            "(690, 14)\n",
            "(690, 1)\n"
          ]
        }
      ]
    },
    {
      "cell_type": "code",
      "source": [
        "#Se comprueban variables de entrada:\n",
        "X.head()"
      ],
      "metadata": {
        "colab": {
          "base_uri": "https://localhost:8080/",
          "height": 206
        },
        "id": "AdozrLS99UAb",
        "outputId": "bd34d1f5-6aa9-41c3-e8c7-0dc281dfb32f"
      },
      "execution_count": 7,
      "outputs": [
        {
          "output_type": "execute_result",
          "data": {
            "text/plain": [
              "   A1     A2     A3  A4  A5  A6     A7  A8  A9  A10  A11  A12  A13   A14\n",
              "0   1  22.08  11.46   2   4   4  1.585   0   0    0    1    2  100  1213\n",
              "1   0  22.67   7.00   2   8   4  0.165   0   0    0    0    2  160     1\n",
              "2   0  29.58   1.75   1   4   4  1.250   0   0    0    1    2  280     1\n",
              "3   0  21.67  11.50   1   5   3  0.000   1   1   11    1    2    0     1\n",
              "4   1  20.17   8.17   2   6   4  1.960   1   1   14    0    2   60   159"
            ],
            "text/html": [
              "\n",
              "  <div id=\"df-e98a5232-009f-47b0-89d6-6a7ae8cd7764\">\n",
              "    <div class=\"colab-df-container\">\n",
              "      <div>\n",
              "<style scoped>\n",
              "    .dataframe tbody tr th:only-of-type {\n",
              "        vertical-align: middle;\n",
              "    }\n",
              "\n",
              "    .dataframe tbody tr th {\n",
              "        vertical-align: top;\n",
              "    }\n",
              "\n",
              "    .dataframe thead th {\n",
              "        text-align: right;\n",
              "    }\n",
              "</style>\n",
              "<table border=\"1\" class=\"dataframe\">\n",
              "  <thead>\n",
              "    <tr style=\"text-align: right;\">\n",
              "      <th></th>\n",
              "      <th>A1</th>\n",
              "      <th>A2</th>\n",
              "      <th>A3</th>\n",
              "      <th>A4</th>\n",
              "      <th>A5</th>\n",
              "      <th>A6</th>\n",
              "      <th>A7</th>\n",
              "      <th>A8</th>\n",
              "      <th>A9</th>\n",
              "      <th>A10</th>\n",
              "      <th>A11</th>\n",
              "      <th>A12</th>\n",
              "      <th>A13</th>\n",
              "      <th>A14</th>\n",
              "    </tr>\n",
              "  </thead>\n",
              "  <tbody>\n",
              "    <tr>\n",
              "      <th>0</th>\n",
              "      <td>1</td>\n",
              "      <td>22.08</td>\n",
              "      <td>11.46</td>\n",
              "      <td>2</td>\n",
              "      <td>4</td>\n",
              "      <td>4</td>\n",
              "      <td>1.585</td>\n",
              "      <td>0</td>\n",
              "      <td>0</td>\n",
              "      <td>0</td>\n",
              "      <td>1</td>\n",
              "      <td>2</td>\n",
              "      <td>100</td>\n",
              "      <td>1213</td>\n",
              "    </tr>\n",
              "    <tr>\n",
              "      <th>1</th>\n",
              "      <td>0</td>\n",
              "      <td>22.67</td>\n",
              "      <td>7.00</td>\n",
              "      <td>2</td>\n",
              "      <td>8</td>\n",
              "      <td>4</td>\n",
              "      <td>0.165</td>\n",
              "      <td>0</td>\n",
              "      <td>0</td>\n",
              "      <td>0</td>\n",
              "      <td>0</td>\n",
              "      <td>2</td>\n",
              "      <td>160</td>\n",
              "      <td>1</td>\n",
              "    </tr>\n",
              "    <tr>\n",
              "      <th>2</th>\n",
              "      <td>0</td>\n",
              "      <td>29.58</td>\n",
              "      <td>1.75</td>\n",
              "      <td>1</td>\n",
              "      <td>4</td>\n",
              "      <td>4</td>\n",
              "      <td>1.250</td>\n",
              "      <td>0</td>\n",
              "      <td>0</td>\n",
              "      <td>0</td>\n",
              "      <td>1</td>\n",
              "      <td>2</td>\n",
              "      <td>280</td>\n",
              "      <td>1</td>\n",
              "    </tr>\n",
              "    <tr>\n",
              "      <th>3</th>\n",
              "      <td>0</td>\n",
              "      <td>21.67</td>\n",
              "      <td>11.50</td>\n",
              "      <td>1</td>\n",
              "      <td>5</td>\n",
              "      <td>3</td>\n",
              "      <td>0.000</td>\n",
              "      <td>1</td>\n",
              "      <td>1</td>\n",
              "      <td>11</td>\n",
              "      <td>1</td>\n",
              "      <td>2</td>\n",
              "      <td>0</td>\n",
              "      <td>1</td>\n",
              "    </tr>\n",
              "    <tr>\n",
              "      <th>4</th>\n",
              "      <td>1</td>\n",
              "      <td>20.17</td>\n",
              "      <td>8.17</td>\n",
              "      <td>2</td>\n",
              "      <td>6</td>\n",
              "      <td>4</td>\n",
              "      <td>1.960</td>\n",
              "      <td>1</td>\n",
              "      <td>1</td>\n",
              "      <td>14</td>\n",
              "      <td>0</td>\n",
              "      <td>2</td>\n",
              "      <td>60</td>\n",
              "      <td>159</td>\n",
              "    </tr>\n",
              "  </tbody>\n",
              "</table>\n",
              "</div>\n",
              "      <button class=\"colab-df-convert\" onclick=\"convertToInteractive('df-e98a5232-009f-47b0-89d6-6a7ae8cd7764')\"\n",
              "              title=\"Convert this dataframe to an interactive table.\"\n",
              "              style=\"display:none;\">\n",
              "        \n",
              "  <svg xmlns=\"http://www.w3.org/2000/svg\" height=\"24px\"viewBox=\"0 0 24 24\"\n",
              "       width=\"24px\">\n",
              "    <path d=\"M0 0h24v24H0V0z\" fill=\"none\"/>\n",
              "    <path d=\"M18.56 5.44l.94 2.06.94-2.06 2.06-.94-2.06-.94-.94-2.06-.94 2.06-2.06.94zm-11 1L8.5 8.5l.94-2.06 2.06-.94-2.06-.94L8.5 2.5l-.94 2.06-2.06.94zm10 10l.94 2.06.94-2.06 2.06-.94-2.06-.94-.94-2.06-.94 2.06-2.06.94z\"/><path d=\"M17.41 7.96l-1.37-1.37c-.4-.4-.92-.59-1.43-.59-.52 0-1.04.2-1.43.59L10.3 9.45l-7.72 7.72c-.78.78-.78 2.05 0 2.83L4 21.41c.39.39.9.59 1.41.59.51 0 1.02-.2 1.41-.59l7.78-7.78 2.81-2.81c.8-.78.8-2.07 0-2.86zM5.41 20L4 18.59l7.72-7.72 1.47 1.35L5.41 20z\"/>\n",
              "  </svg>\n",
              "      </button>\n",
              "      \n",
              "  <style>\n",
              "    .colab-df-container {\n",
              "      display:flex;\n",
              "      flex-wrap:wrap;\n",
              "      gap: 12px;\n",
              "    }\n",
              "\n",
              "    .colab-df-convert {\n",
              "      background-color: #E8F0FE;\n",
              "      border: none;\n",
              "      border-radius: 50%;\n",
              "      cursor: pointer;\n",
              "      display: none;\n",
              "      fill: #1967D2;\n",
              "      height: 32px;\n",
              "      padding: 0 0 0 0;\n",
              "      width: 32px;\n",
              "    }\n",
              "\n",
              "    .colab-df-convert:hover {\n",
              "      background-color: #E2EBFA;\n",
              "      box-shadow: 0px 1px 2px rgba(60, 64, 67, 0.3), 0px 1px 3px 1px rgba(60, 64, 67, 0.15);\n",
              "      fill: #174EA6;\n",
              "    }\n",
              "\n",
              "    [theme=dark] .colab-df-convert {\n",
              "      background-color: #3B4455;\n",
              "      fill: #D2E3FC;\n",
              "    }\n",
              "\n",
              "    [theme=dark] .colab-df-convert:hover {\n",
              "      background-color: #434B5C;\n",
              "      box-shadow: 0px 1px 3px 1px rgba(0, 0, 0, 0.15);\n",
              "      filter: drop-shadow(0px 1px 2px rgba(0, 0, 0, 0.3));\n",
              "      fill: #FFFFFF;\n",
              "    }\n",
              "  </style>\n",
              "\n",
              "      <script>\n",
              "        const buttonEl =\n",
              "          document.querySelector('#df-e98a5232-009f-47b0-89d6-6a7ae8cd7764 button.colab-df-convert');\n",
              "        buttonEl.style.display =\n",
              "          google.colab.kernel.accessAllowed ? 'block' : 'none';\n",
              "\n",
              "        async function convertToInteractive(key) {\n",
              "          const element = document.querySelector('#df-e98a5232-009f-47b0-89d6-6a7ae8cd7764');\n",
              "          const dataTable =\n",
              "            await google.colab.kernel.invokeFunction('convertToInteractive',\n",
              "                                                     [key], {});\n",
              "          if (!dataTable) return;\n",
              "\n",
              "          const docLinkHtml = 'Like what you see? Visit the ' +\n",
              "            '<a target=\"_blank\" href=https://colab.research.google.com/notebooks/data_table.ipynb>data table notebook</a>'\n",
              "            + ' to learn more about interactive tables.';\n",
              "          element.innerHTML = '';\n",
              "          dataTable['output_type'] = 'display_data';\n",
              "          await google.colab.output.renderOutput(dataTable, element);\n",
              "          const docLink = document.createElement('div');\n",
              "          docLink.innerHTML = docLinkHtml;\n",
              "          element.appendChild(docLink);\n",
              "        }\n",
              "      </script>\n",
              "    </div>\n",
              "  </div>\n",
              "  "
            ]
          },
          "metadata": {},
          "execution_count": 7
        }
      ]
    },
    {
      "cell_type": "code",
      "source": [
        "#Se comprueba variable de Salida:\n",
        "Y.head()"
      ],
      "metadata": {
        "colab": {
          "base_uri": "https://localhost:8080/",
          "height": 206
        },
        "id": "mVAzq88X_MNF",
        "outputId": "c44093ff-d295-43f9-b1fa-8472073cab8e"
      },
      "execution_count": 8,
      "outputs": [
        {
          "output_type": "execute_result",
          "data": {
            "text/plain": [
              "   A15\n",
              "0    0\n",
              "1    0\n",
              "2    0\n",
              "3    1\n",
              "4    1"
            ],
            "text/html": [
              "\n",
              "  <div id=\"df-484d7318-2cb7-46a4-8ee8-d55acea0cc5f\">\n",
              "    <div class=\"colab-df-container\">\n",
              "      <div>\n",
              "<style scoped>\n",
              "    .dataframe tbody tr th:only-of-type {\n",
              "        vertical-align: middle;\n",
              "    }\n",
              "\n",
              "    .dataframe tbody tr th {\n",
              "        vertical-align: top;\n",
              "    }\n",
              "\n",
              "    .dataframe thead th {\n",
              "        text-align: right;\n",
              "    }\n",
              "</style>\n",
              "<table border=\"1\" class=\"dataframe\">\n",
              "  <thead>\n",
              "    <tr style=\"text-align: right;\">\n",
              "      <th></th>\n",
              "      <th>A15</th>\n",
              "    </tr>\n",
              "  </thead>\n",
              "  <tbody>\n",
              "    <tr>\n",
              "      <th>0</th>\n",
              "      <td>0</td>\n",
              "    </tr>\n",
              "    <tr>\n",
              "      <th>1</th>\n",
              "      <td>0</td>\n",
              "    </tr>\n",
              "    <tr>\n",
              "      <th>2</th>\n",
              "      <td>0</td>\n",
              "    </tr>\n",
              "    <tr>\n",
              "      <th>3</th>\n",
              "      <td>1</td>\n",
              "    </tr>\n",
              "    <tr>\n",
              "      <th>4</th>\n",
              "      <td>1</td>\n",
              "    </tr>\n",
              "  </tbody>\n",
              "</table>\n",
              "</div>\n",
              "      <button class=\"colab-df-convert\" onclick=\"convertToInteractive('df-484d7318-2cb7-46a4-8ee8-d55acea0cc5f')\"\n",
              "              title=\"Convert this dataframe to an interactive table.\"\n",
              "              style=\"display:none;\">\n",
              "        \n",
              "  <svg xmlns=\"http://www.w3.org/2000/svg\" height=\"24px\"viewBox=\"0 0 24 24\"\n",
              "       width=\"24px\">\n",
              "    <path d=\"M0 0h24v24H0V0z\" fill=\"none\"/>\n",
              "    <path d=\"M18.56 5.44l.94 2.06.94-2.06 2.06-.94-2.06-.94-.94-2.06-.94 2.06-2.06.94zm-11 1L8.5 8.5l.94-2.06 2.06-.94-2.06-.94L8.5 2.5l-.94 2.06-2.06.94zm10 10l.94 2.06.94-2.06 2.06-.94-2.06-.94-.94-2.06-.94 2.06-2.06.94z\"/><path d=\"M17.41 7.96l-1.37-1.37c-.4-.4-.92-.59-1.43-.59-.52 0-1.04.2-1.43.59L10.3 9.45l-7.72 7.72c-.78.78-.78 2.05 0 2.83L4 21.41c.39.39.9.59 1.41.59.51 0 1.02-.2 1.41-.59l7.78-7.78 2.81-2.81c.8-.78.8-2.07 0-2.86zM5.41 20L4 18.59l7.72-7.72 1.47 1.35L5.41 20z\"/>\n",
              "  </svg>\n",
              "      </button>\n",
              "      \n",
              "  <style>\n",
              "    .colab-df-container {\n",
              "      display:flex;\n",
              "      flex-wrap:wrap;\n",
              "      gap: 12px;\n",
              "    }\n",
              "\n",
              "    .colab-df-convert {\n",
              "      background-color: #E8F0FE;\n",
              "      border: none;\n",
              "      border-radius: 50%;\n",
              "      cursor: pointer;\n",
              "      display: none;\n",
              "      fill: #1967D2;\n",
              "      height: 32px;\n",
              "      padding: 0 0 0 0;\n",
              "      width: 32px;\n",
              "    }\n",
              "\n",
              "    .colab-df-convert:hover {\n",
              "      background-color: #E2EBFA;\n",
              "      box-shadow: 0px 1px 2px rgba(60, 64, 67, 0.3), 0px 1px 3px 1px rgba(60, 64, 67, 0.15);\n",
              "      fill: #174EA6;\n",
              "    }\n",
              "\n",
              "    [theme=dark] .colab-df-convert {\n",
              "      background-color: #3B4455;\n",
              "      fill: #D2E3FC;\n",
              "    }\n",
              "\n",
              "    [theme=dark] .colab-df-convert:hover {\n",
              "      background-color: #434B5C;\n",
              "      box-shadow: 0px 1px 3px 1px rgba(0, 0, 0, 0.15);\n",
              "      filter: drop-shadow(0px 1px 2px rgba(0, 0, 0, 0.3));\n",
              "      fill: #FFFFFF;\n",
              "    }\n",
              "  </style>\n",
              "\n",
              "      <script>\n",
              "        const buttonEl =\n",
              "          document.querySelector('#df-484d7318-2cb7-46a4-8ee8-d55acea0cc5f button.colab-df-convert');\n",
              "        buttonEl.style.display =\n",
              "          google.colab.kernel.accessAllowed ? 'block' : 'none';\n",
              "\n",
              "        async function convertToInteractive(key) {\n",
              "          const element = document.querySelector('#df-484d7318-2cb7-46a4-8ee8-d55acea0cc5f');\n",
              "          const dataTable =\n",
              "            await google.colab.kernel.invokeFunction('convertToInteractive',\n",
              "                                                     [key], {});\n",
              "          if (!dataTable) return;\n",
              "\n",
              "          const docLinkHtml = 'Like what you see? Visit the ' +\n",
              "            '<a target=\"_blank\" href=https://colab.research.google.com/notebooks/data_table.ipynb>data table notebook</a>'\n",
              "            + ' to learn more about interactive tables.';\n",
              "          element.innerHTML = '';\n",
              "          dataTable['output_type'] = 'display_data';\n",
              "          await google.colab.output.renderOutput(dataTable, element);\n",
              "          const docLink = document.createElement('div');\n",
              "          docLink.innerHTML = docLinkHtml;\n",
              "          element.appendChild(docLink);\n",
              "        }\n",
              "      </script>\n",
              "    </div>\n",
              "  </div>\n",
              "  "
            ]
          },
          "metadata": {},
          "execution_count": 8
        }
      ]
    },
    {
      "cell_type": "code",
      "source": [
        "#Se realiza la partición de los datos con 15% en el conjunto de prueba y el resto para entrenamiento y validación.\n",
        "\n",
        "Xtv, Xtest, Ytv, Ytest = train_test_split(X, Y, test_size=0.15, stratify=Y, random_state=0) \n",
        "Xtv.head()"
      ],
      "metadata": {
        "colab": {
          "base_uri": "https://localhost:8080/",
          "height": 206
        },
        "id": "jzehy0rk_P79",
        "outputId": "5a37082f-301a-423a-fca0-e672f1efd23b"
      },
      "execution_count": 9,
      "outputs": [
        {
          "output_type": "execute_result",
          "data": {
            "text/plain": [
              "     A1     A2      A3  A4  A5  A6     A7  A8  A9  A10  A11  A12  A13    A14\n",
              "27    1  33.17   3.040   1   8   8   2.04   1   1    1    1    2  180  18028\n",
              "109   1  32.33   2.500   2   8   4   1.25   0   0    0    1    2  280      1\n",
              "538   0  35.42  12.000   2  11   8  14.00   1   1    8    0    2    0   6591\n",
              "464   0  57.58   2.000   2   1   1   6.50   0   1    1    0    2    0     11\n",
              "24    1  19.50   9.585   2   6   4   0.79   0   0    0    0    2   80    351"
            ],
            "text/html": [
              "\n",
              "  <div id=\"df-cfe3776f-a18c-47b7-ae4b-8644fd68c77d\">\n",
              "    <div class=\"colab-df-container\">\n",
              "      <div>\n",
              "<style scoped>\n",
              "    .dataframe tbody tr th:only-of-type {\n",
              "        vertical-align: middle;\n",
              "    }\n",
              "\n",
              "    .dataframe tbody tr th {\n",
              "        vertical-align: top;\n",
              "    }\n",
              "\n",
              "    .dataframe thead th {\n",
              "        text-align: right;\n",
              "    }\n",
              "</style>\n",
              "<table border=\"1\" class=\"dataframe\">\n",
              "  <thead>\n",
              "    <tr style=\"text-align: right;\">\n",
              "      <th></th>\n",
              "      <th>A1</th>\n",
              "      <th>A2</th>\n",
              "      <th>A3</th>\n",
              "      <th>A4</th>\n",
              "      <th>A5</th>\n",
              "      <th>A6</th>\n",
              "      <th>A7</th>\n",
              "      <th>A8</th>\n",
              "      <th>A9</th>\n",
              "      <th>A10</th>\n",
              "      <th>A11</th>\n",
              "      <th>A12</th>\n",
              "      <th>A13</th>\n",
              "      <th>A14</th>\n",
              "    </tr>\n",
              "  </thead>\n",
              "  <tbody>\n",
              "    <tr>\n",
              "      <th>27</th>\n",
              "      <td>1</td>\n",
              "      <td>33.17</td>\n",
              "      <td>3.040</td>\n",
              "      <td>1</td>\n",
              "      <td>8</td>\n",
              "      <td>8</td>\n",
              "      <td>2.04</td>\n",
              "      <td>1</td>\n",
              "      <td>1</td>\n",
              "      <td>1</td>\n",
              "      <td>1</td>\n",
              "      <td>2</td>\n",
              "      <td>180</td>\n",
              "      <td>18028</td>\n",
              "    </tr>\n",
              "    <tr>\n",
              "      <th>109</th>\n",
              "      <td>1</td>\n",
              "      <td>32.33</td>\n",
              "      <td>2.500</td>\n",
              "      <td>2</td>\n",
              "      <td>8</td>\n",
              "      <td>4</td>\n",
              "      <td>1.25</td>\n",
              "      <td>0</td>\n",
              "      <td>0</td>\n",
              "      <td>0</td>\n",
              "      <td>1</td>\n",
              "      <td>2</td>\n",
              "      <td>280</td>\n",
              "      <td>1</td>\n",
              "    </tr>\n",
              "    <tr>\n",
              "      <th>538</th>\n",
              "      <td>0</td>\n",
              "      <td>35.42</td>\n",
              "      <td>12.000</td>\n",
              "      <td>2</td>\n",
              "      <td>11</td>\n",
              "      <td>8</td>\n",
              "      <td>14.00</td>\n",
              "      <td>1</td>\n",
              "      <td>1</td>\n",
              "      <td>8</td>\n",
              "      <td>0</td>\n",
              "      <td>2</td>\n",
              "      <td>0</td>\n",
              "      <td>6591</td>\n",
              "    </tr>\n",
              "    <tr>\n",
              "      <th>464</th>\n",
              "      <td>0</td>\n",
              "      <td>57.58</td>\n",
              "      <td>2.000</td>\n",
              "      <td>2</td>\n",
              "      <td>1</td>\n",
              "      <td>1</td>\n",
              "      <td>6.50</td>\n",
              "      <td>0</td>\n",
              "      <td>1</td>\n",
              "      <td>1</td>\n",
              "      <td>0</td>\n",
              "      <td>2</td>\n",
              "      <td>0</td>\n",
              "      <td>11</td>\n",
              "    </tr>\n",
              "    <tr>\n",
              "      <th>24</th>\n",
              "      <td>1</td>\n",
              "      <td>19.50</td>\n",
              "      <td>9.585</td>\n",
              "      <td>2</td>\n",
              "      <td>6</td>\n",
              "      <td>4</td>\n",
              "      <td>0.79</td>\n",
              "      <td>0</td>\n",
              "      <td>0</td>\n",
              "      <td>0</td>\n",
              "      <td>0</td>\n",
              "      <td>2</td>\n",
              "      <td>80</td>\n",
              "      <td>351</td>\n",
              "    </tr>\n",
              "  </tbody>\n",
              "</table>\n",
              "</div>\n",
              "      <button class=\"colab-df-convert\" onclick=\"convertToInteractive('df-cfe3776f-a18c-47b7-ae4b-8644fd68c77d')\"\n",
              "              title=\"Convert this dataframe to an interactive table.\"\n",
              "              style=\"display:none;\">\n",
              "        \n",
              "  <svg xmlns=\"http://www.w3.org/2000/svg\" height=\"24px\"viewBox=\"0 0 24 24\"\n",
              "       width=\"24px\">\n",
              "    <path d=\"M0 0h24v24H0V0z\" fill=\"none\"/>\n",
              "    <path d=\"M18.56 5.44l.94 2.06.94-2.06 2.06-.94-2.06-.94-.94-2.06-.94 2.06-2.06.94zm-11 1L8.5 8.5l.94-2.06 2.06-.94-2.06-.94L8.5 2.5l-.94 2.06-2.06.94zm10 10l.94 2.06.94-2.06 2.06-.94-2.06-.94-.94-2.06-.94 2.06-2.06.94z\"/><path d=\"M17.41 7.96l-1.37-1.37c-.4-.4-.92-.59-1.43-.59-.52 0-1.04.2-1.43.59L10.3 9.45l-7.72 7.72c-.78.78-.78 2.05 0 2.83L4 21.41c.39.39.9.59 1.41.59.51 0 1.02-.2 1.41-.59l7.78-7.78 2.81-2.81c.8-.78.8-2.07 0-2.86zM5.41 20L4 18.59l7.72-7.72 1.47 1.35L5.41 20z\"/>\n",
              "  </svg>\n",
              "      </button>\n",
              "      \n",
              "  <style>\n",
              "    .colab-df-container {\n",
              "      display:flex;\n",
              "      flex-wrap:wrap;\n",
              "      gap: 12px;\n",
              "    }\n",
              "\n",
              "    .colab-df-convert {\n",
              "      background-color: #E8F0FE;\n",
              "      border: none;\n",
              "      border-radius: 50%;\n",
              "      cursor: pointer;\n",
              "      display: none;\n",
              "      fill: #1967D2;\n",
              "      height: 32px;\n",
              "      padding: 0 0 0 0;\n",
              "      width: 32px;\n",
              "    }\n",
              "\n",
              "    .colab-df-convert:hover {\n",
              "      background-color: #E2EBFA;\n",
              "      box-shadow: 0px 1px 2px rgba(60, 64, 67, 0.3), 0px 1px 3px 1px rgba(60, 64, 67, 0.15);\n",
              "      fill: #174EA6;\n",
              "    }\n",
              "\n",
              "    [theme=dark] .colab-df-convert {\n",
              "      background-color: #3B4455;\n",
              "      fill: #D2E3FC;\n",
              "    }\n",
              "\n",
              "    [theme=dark] .colab-df-convert:hover {\n",
              "      background-color: #434B5C;\n",
              "      box-shadow: 0px 1px 3px 1px rgba(0, 0, 0, 0.15);\n",
              "      filter: drop-shadow(0px 1px 2px rgba(0, 0, 0, 0.3));\n",
              "      fill: #FFFFFF;\n",
              "    }\n",
              "  </style>\n",
              "\n",
              "      <script>\n",
              "        const buttonEl =\n",
              "          document.querySelector('#df-cfe3776f-a18c-47b7-ae4b-8644fd68c77d button.colab-df-convert');\n",
              "        buttonEl.style.display =\n",
              "          google.colab.kernel.accessAllowed ? 'block' : 'none';\n",
              "\n",
              "        async function convertToInteractive(key) {\n",
              "          const element = document.querySelector('#df-cfe3776f-a18c-47b7-ae4b-8644fd68c77d');\n",
              "          const dataTable =\n",
              "            await google.colab.kernel.invokeFunction('convertToInteractive',\n",
              "                                                     [key], {});\n",
              "          if (!dataTable) return;\n",
              "\n",
              "          const docLinkHtml = 'Like what you see? Visit the ' +\n",
              "            '<a target=\"_blank\" href=https://colab.research.google.com/notebooks/data_table.ipynb>data table notebook</a>'\n",
              "            + ' to learn more about interactive tables.';\n",
              "          element.innerHTML = '';\n",
              "          dataTable['output_type'] = 'display_data';\n",
              "          await google.colab.output.renderOutput(dataTable, element);\n",
              "          const docLink = document.createElement('div');\n",
              "          docLink.innerHTML = docLinkHtml;\n",
              "          element.appendChild(docLink);\n",
              "        }\n",
              "      </script>\n",
              "    </div>\n",
              "  </div>\n",
              "  "
            ]
          },
          "metadata": {},
          "execution_count": 9
        }
      ]
    },
    {
      "cell_type": "code",
      "source": [
        "#Se valida que partición se haya realizado correctamente:\n",
        "print(Xtv.shape)\n",
        "print(Ytv.shape)\n",
        "print(Xtest.shape)\n",
        "print(Ytest.shape)"
      ],
      "metadata": {
        "colab": {
          "base_uri": "https://localhost:8080/"
        },
        "id": "u_iE-owkAQ1l",
        "outputId": "6a7fbc63-634b-4d0c-b2d3-54d383ace4ac"
      },
      "execution_count": 10,
      "outputs": [
        {
          "output_type": "stream",
          "name": "stdout",
          "text": [
            "(586, 14)\n",
            "(586, 1)\n",
            "(104, 14)\n",
            "(104, 1)\n"
          ]
        }
      ]
    },
    {
      "cell_type": "markdown",
      "source": [
        "#**Ejercicio-2.**"
      ],
      "metadata": {
        "id": "xZhr2hkECzVv"
      }
    },
    {
      "cell_type": "code",
      "source": [
        "#Analizamos los tipos de variables en nuestro conjunto de entrada Xtv\n",
        "Xtv.dtypes"
      ],
      "metadata": {
        "id": "kGfAoOPkC1PP",
        "colab": {
          "base_uri": "https://localhost:8080/"
        },
        "outputId": "20a9d7d0-a20f-491a-950b-408e85b797ca"
      },
      "execution_count": 11,
      "outputs": [
        {
          "output_type": "execute_result",
          "data": {
            "text/plain": [
              "A1       int64\n",
              "A2     float64\n",
              "A3     float64\n",
              "A4       int64\n",
              "A5       int64\n",
              "A6       int64\n",
              "A7     float64\n",
              "A8       int64\n",
              "A9       int64\n",
              "A10      int64\n",
              "A11      int64\n",
              "A12      int64\n",
              "A13      int64\n",
              "A14      int64\n",
              "dtype: object"
            ]
          },
          "metadata": {},
          "execution_count": 11
        }
      ]
    },
    {
      "cell_type": "code",
      "source": [
        "# Se identifican los tipos de variables en conjunto de entrenamiento:\n",
        "\n",
        "variables_categoricas = [\"A1\", \"A4\", \"A5\", \"A6\", \"A8\", \"A9\", \"A11\", \"A12\"]\n",
        "variables_numericas = [\"A2\", \"A3\", \"A7\", \"A10\", \"A13\", \"A14\"]"
      ],
      "metadata": {
        "id": "BvXmfLLxLlUj"
      },
      "execution_count": 12,
      "outputs": []
    },
    {
      "cell_type": "code",
      "source": [
        "#Se visualizan las variables categóricas identificadas:\n",
        "\n",
        "sns.set(rc= {'figure.figsize': (16,8)})\n",
        "fig, axes = plt.subplots(2, 4)\n",
        "for k in range(0,8):\n",
        "  plt.subplot(2, 4,k+1)\n",
        "  plt.hist(Xtv[variables_categoricas[k]], bins = len(Xtv[variables_categoricas[k]].value_counts()))\n",
        "  plt.xlabel(variables_categoricas[k])\n",
        "plt.show()"
      ],
      "metadata": {
        "colab": {
          "base_uri": "https://localhost:8080/",
          "height": 502
        },
        "id": "9RO8DX7Car-w",
        "outputId": "b5144416-06a2-4d0c-d66a-67ed71ceebd6"
      },
      "execution_count": 13,
      "outputs": [
        {
          "output_type": "display_data",
          "data": {
            "text/plain": [
              "<Figure size 1152x576 with 8 Axes>"
            ],
            "image/png": "[encoded data removed]"
          },
          "metadata": {}
        }
      ]
    },
    {
      "cell_type": "markdown",
      "source": [
        "* Se observa que en las variables A4, A5, A6 y A12 (hay categorías con muy poca cantidad de datos)."
      ],
      "metadata": {
        "id": "hImcAvPshnvg"
      }
    },
    {
      "cell_type": "code",
      "source": [
        "#Se valida la cantidad en cada categoria para estas variables:\n",
        "Xtv[\"A12\"].value_counts()"
      ],
      "metadata": {
        "colab": {
          "base_uri": "https://localhost:8080/"
        },
        "id": "9j0wLNv7XwwP",
        "outputId": "ff41b21b-a7ad-4d0d-df34-00b1abecc838"
      },
      "execution_count": 14,
      "outputs": [
        {
          "output_type": "execute_result",
          "data": {
            "text/plain": [
              "2    535\n",
              "1     44\n",
              "3      7\n",
              "Name: A12, dtype: int64"
            ]
          },
          "metadata": {},
          "execution_count": 14
        }
      ]
    },
    {
      "cell_type": "code",
      "source": [
        "#Por lo que se definen funciones para juntar categorias con menor cantidad de datos, se agrupan en un mismo nivel 0 todos los de baja frecuencia:\n",
        "def mapA4(df):\n",
        "  df[\"A4\"] = df[\"A4\"].map({2:2, 1:0, 3:0})\n",
        "  return df\n",
        "\n",
        "def mapA5(df):\n",
        "  df[\"A5\"] = df[\"A5\"].map({8:8, 11:11, 9:9, 3:3, 1:1, 6:6, 4:4, 13:13, 7:7, 14:14, 2:2, 10:0, 5:0, 12:0})\n",
        "  return df\n",
        "\n",
        "def mapA6(df):\n",
        "  df[\"A6\"] = df[\"A6\"].map({4:4, 8:8, 5:5, 1:1, 3:0, 9:0, 2:0, 7:0})\n",
        "  return df\n",
        "\n",
        "def mapA12(df):\n",
        "  df[\"A12\"] = df[\"A12\"].map({2:2, 1:0, 3:0})\n",
        "  return df"
      ],
      "metadata": {
        "id": "L35ikU43iQhf"
      },
      "execution_count": 15,
      "outputs": []
    },
    {
      "cell_type": "code",
      "source": [
        "#Se visualiza la distribución de las variables numéricas: \n",
        "\n",
        "sns.set(rc= {'figure.figsize': (10,7)})\n",
        "fig, axes = plt.subplots(2, 3)\n",
        "for k in range(0,6):\n",
        "  plt.subplot(2, 3,k+1)\n",
        "  plt.hist(Xtv[variables_numericas[k]], bins = 20)\n",
        "  plt.xlabel(variables_numericas[k])\n",
        "plt.show()"
      ],
      "metadata": {
        "colab": {
          "base_uri": "https://localhost:8080/",
          "height": 448
        },
        "id": "cuMUz0QFTFOh",
        "outputId": "61d1948f-40c4-4ed8-872d-e07de47028ea"
      },
      "execution_count": 16,
      "outputs": [
        {
          "output_type": "display_data",
          "data": {
            "text/plain": [
              "<Figure size 720x504 with 6 Axes>"
            ],
            "image/png": "[encoded data removed]"
          },
          "metadata": {}
        }
      ]
    },
    {
      "cell_type": "code",
      "source": [
        "#Se revisa la n-raiz requerida para ajustar el sesgo positivo que presentan las variables numéricas: \n",
        "n = 4\n",
        "sns.set(rc= {'figure.figsize': (10,7)})\n",
        "fig, axes = plt.subplots(2, 3)\n",
        "for k in range(0,6):\n",
        "  plt.subplot(2, 3,k+1)\n",
        "  plt.hist(np.power(Xtv[variables_numericas[k]], (1/n)), bins = 20)\n",
        "  plt.xlabel(variables_numericas[k])\n",
        "plt.show()"
      ],
      "metadata": {
        "colab": {
          "base_uri": "https://localhost:8080/",
          "height": 448
        },
        "id": "ChWVT9hzfSA3",
        "outputId": "c20e5f57-243a-40cd-8e82-f7c7058e1ee8"
      },
      "execution_count": 17,
      "outputs": [
        {
          "output_type": "display_data",
          "data": {
            "text/plain": [
              "<Figure size 720x504 with 6 Axes>"
            ],
            "image/png": "[encoded data removed]"
          },
          "metadata": {}
        }
      ]
    },
    {
      "cell_type": "code",
      "source": [
        "#Se selecciona la raíz a la n=4 para ajustar variables numéricas, por lo que se genera función:\n",
        "\n",
        "def funNum(x):\n",
        "  raizN4 = np.power(x, (1/4))\n",
        "  return raizN4"
      ],
      "metadata": {
        "id": "_6l3gJpJidEv"
      },
      "execution_count": 18,
      "outputs": []
    },
    {
      "cell_type": "code",
      "source": [
        "#Transformaciones a variables numéricas de entrada:\n",
        "num_pipe = Pipeline(steps = [('impMediana', SimpleImputer(strategy='median')),\n",
        "                              ('escalaNum', MinMaxScaler(feature_range=(0,1)))])   \n",
        "num_pipe_nombres = variables_numericas\n",
        "\n",
        "numRaizN4_pipe = Pipeline(steps = [('raizN4', FunctionTransformer(funNum))]) \n",
        "numRaizN4_pipe_nombre = variables_numericas\n",
        "\n",
        "#Transformaciones a variables categóricas de entrada:\n",
        "catMapA4_pipe = Pipeline(steps = [('mapCatA4', FunctionTransformer(mapA4))])\n",
        "catMapA4_pipe_nombre = ['A4']\n",
        "\n",
        "catMapA5_pipe = Pipeline(steps = [('mapCatA5', FunctionTransformer(mapA5))])\n",
        "catMapA5_pipe_nombre = ['A5']\n",
        "\n",
        "catMapA6_pipe = Pipeline(steps = [('mapCatA6', FunctionTransformer(mapA6))])\n",
        "catMapA6_pipe_nombre = ['A6']\n",
        "\n",
        "catMapA12_pipe = Pipeline(steps = [('mapCatA12', FunctionTransformer(mapA12))])\n",
        "catMapA12_pipe_nombre = ['A12']\n",
        "\n",
        "catOhe_pipe = Pipeline(steps = [('oheCat', OneHotEncoder(handle_unknown=\"ignore\", sparse=False))])\n",
        "catOhe_pipe_nombre = [ 'A4','A5','A6','A12']\n",
        "\n",
        "#Se conjuntan todas las transformaciones para las variables de entrada:\n",
        "cT = ColumnTransformer(transformers = [('numpipe', num_pipe, num_pipe_nombres),\n",
        "                                       ('numRaizN4', numRaizN4_pipe, numRaizN4_pipe_nombre),\n",
        "                                       ('catMapA4', catMapA4_pipe, catMapA4_pipe_nombre),\n",
        "                                       ('catMapA5', catMapA5_pipe, catMapA5_pipe_nombre),\n",
        "                                       ('catMapA6', catMapA6_pipe, catMapA6_pipe_nombre),\n",
        "                                       ('catMapA12', catMapA12_pipe, catMapA12_pipe_nombre),\n",
        "                                       ('catOhe', catOhe_pipe, catOhe_pipe_nombre)],\n",
        "                        remainder='passthrough')"
      ],
      "metadata": {
        "id": "mdoR6HsQomtl"
      },
      "execution_count": 19,
      "outputs": []
    },
    {
      "cell_type": "markdown",
      "source": [
        "#**Ejercicio-3.**"
      ],
      "metadata": {
        "id": "NCunuooTC2W3"
      }
    },
    {
      "cell_type": "markdown",
      "source": [
        "Utiliza la función Dummy para modelos de clasificación con la estrategia “stratified” con el conjunto\n",
        "que tienes de datos de entrenamiento y validación. Obtener los valores de partida (baseline) de las\n",
        "siguientes métricas: accuracy, f1-score, precision y recall. ¿Por qué consideras que es adecuado usar\n",
        "la estrategia “stratified” en este caso?"
      ],
      "metadata": {
        "id": "R80ARa_Es81f"
      }
    },
    {
      "cell_type": "code",
      "source": [
        "#Se obtiene modelo Dummy con estrategia \"stratified\":\n",
        "\n",
        "modeloDummy = DummyClassifier(strategy=\"stratified\")\n",
        "pipelineDummy = Pipeline(steps=[('ct', cT),  ('m', modeloDummy)])\n",
        "\n",
        "pipelineDummy.fit(Xtv, Ytv)\n",
        "\n",
        "yhatDummy = pipelineDummy.predict(Xtv)\n",
        "\n",
        "print('Accuracy score: %.4f' % pipelineDummy.score(Xtv, Ytv))\n",
        "print('F1-score score: %.4f' % f1_score(Ytv, yhatDummy))\n",
        "print('Precision score: %.4f' % precision_score(Ytv, yhatDummy))\n",
        "print('Recall score: %.4f' % recall_score(Ytv, yhatDummy))"
      ],
      "metadata": {
        "id": "YXlcSWA-C4Dj",
        "colab": {
          "base_uri": "https://localhost:8080/"
        },
        "outputId": "83e68486-6cc7-456b-a1af-f0f32b3f546f"
      },
      "execution_count": 20,
      "outputs": [
        {
          "output_type": "stream",
          "name": "stdout",
          "text": [
            "Accuracy score: 0.5307\n",
            "F1-score score: 0.4578\n",
            "Precision score: 0.4485\n",
            "Recall score: 0.4674\n"
          ]
        }
      ]
    },
    {
      "cell_type": "markdown",
      "source": [
        "“stratified”: the predict_proba method randomly samples one-hot vectors from a multinomial distribution parametrized by the empirical class prior probabilities. The predict method returns the class label which got probability one in the one-hot vector of predict_proba. Each sampled row of both methods is therefore independent and identically distributed."
      ],
      "metadata": {
        "id": "Cfc7U8bluFVo"
      }
    },
    {
      "cell_type": "markdown",
      "source": [
        "#**Ejercicio-4.**"
      ],
      "metadata": {
        "id": "chqk9jIDC5Pq"
      }
    },
    {
      "cell_type": "markdown",
      "source": [
        "Usando el modelo de máquina de vector soporte (SVM) encuentra sus mejores hiperparámetros\n",
        "con una búsqueda de malla y validación cruzada, desplegando los errores indicados en el ejercicio\n",
        "anterior."
      ],
      "metadata": {
        "id": "AfsZi_kVLAko"
      }
    },
    {
      "cell_type": "code",
      "source": [
        "#Se utiliza GridSearch para encontrar los mejores hiperparámetros con el modelo SVM.\n",
        "\n",
        "modeloSVM = svm.SVC()\n",
        "\n",
        "pipelineSVM = Pipeline(steps=[(\"ct\", cT),(\"m\",modeloSVM)])\n",
        "\n",
        "cv1 = RepeatedStratifiedKFold(n_splits=5, n_repeats=3, random_state=1)\n",
        "\n",
        "param_Gamma = np.linspace(0.05, 50, 8) #[0.05,0.1,10,50]\n",
        "\n",
        "dicc_gridSVM = {'m__kernel':['rbf', 'linear'],\n",
        "                'm__C':[0.001,0.01,0.1,1,10,100],\n",
        "                'm__gamma': param_Gamma,\n",
        "                'm__probability': [True],\n",
        "                 }\n",
        "\n",
        "gridSVM = GridSearchCV(estimator = pipelineSVM,\n",
        "                      param_grid= dicc_gridSVM,\n",
        "                      cv=cv1,\n",
        "                      scoring = 'f1',\n",
        "                      n_jobs=-1)"
      ],
      "metadata": {
        "id": "RBVSFwK4C6g9"
      },
      "execution_count": 21,
      "outputs": []
    },
    {
      "cell_type": "code",
      "source": [
        "gridSVM.fit(Xtv, Ytv.values.ravel())\n",
        "\n",
        "print('Mejor valor de RMSE obtenido con la mejor combinación:', gridSVM.best_score_)\n",
        "print('Mejor combinación de valores encontrados de los hiperparámetros:', gridSVM.best_params_)\n",
        "print('Métrica utilizada:', gridSVM.scoring)"
      ],
      "metadata": {
        "id": "7KXnlNzAC69Y",
        "colab": {
          "base_uri": "https://localhost:8080/"
        },
        "outputId": "a7341b1e-e90b-4e33-cd48-d442f62abb76"
      },
      "execution_count": 22,
      "outputs": [
        {
          "output_type": "stream",
          "name": "stdout",
          "text": [
            "Mejor valor de RMSE obtenido con la mejor combinación: 0.8474420422217553\n",
            "Mejor combinación de valores encontrados de los hiperparámetros: {'m__C': 0.1, 'm__gamma': 0.05, 'm__kernel': 'linear', 'm__probability': True}\n",
            "Métrica utilizada: f1\n"
          ]
        }
      ]
    },
    {
      "cell_type": "code",
      "source": [
        "#Se obtienen métricos considerando los mejores parámetros obtenidos con GridSearchCV:\n",
        "\n",
        "best_SVMparams = pipelineSVM.set_params(**gridSVM.best_params_)\n",
        "best_SVM = best_SVMparams.fit(Xtv, Ytv.values.ravel())\n",
        "yhatSVM = best_SVM.predict(Xtv)\n",
        "\n",
        "print('Accuracy score: %.4f' % best_SVM.score(Xtv, Ytv))\n",
        "print('F1-score score: %.4f' % f1_score(Ytv, yhatSVM))\n",
        "print('Precision score: %.4f' % precision_score(Ytv, yhatSVM))\n",
        "print('Recall score: %.4f' % recall_score(Ytv, yhatSVM))"
      ],
      "metadata": {
        "colab": {
          "base_uri": "https://localhost:8080/"
        },
        "id": "i94JKadDb1QT",
        "outputId": "5c6894e0-64e4-4c42-80d1-4931935bfa2b"
      },
      "execution_count": 23,
      "outputs": [
        {
          "output_type": "stream",
          "name": "stdout",
          "text": [
            "Accuracy score: 0.8532\n",
            "F1-score score: 0.8502\n",
            "Precision score: 0.7796\n",
            "Recall score: 0.9349\n"
          ]
        }
      ]
    },
    {
      "cell_type": "code",
      "source": [
        "SCORERS.keys()"
      ],
      "metadata": {
        "colab": {
          "base_uri": "https://localhost:8080/"
        },
        "id": "L--r--ZxUnDs",
        "outputId": "a2f415b2-f06f-47c8-f6d3-ae121f415d7a"
      },
      "execution_count": 24,
      "outputs": [
        {
          "output_type": "execute_result",
          "data": {
            "text/plain": [
              "dict_keys(['explained_variance', 'r2', 'max_error', 'neg_median_absolute_error', 'neg_mean_absolute_error', 'neg_mean_absolute_percentage_error', 'neg_mean_squared_error', 'neg_mean_squared_log_error', 'neg_root_mean_squared_error', 'neg_mean_poisson_deviance', 'neg_mean_gamma_deviance', 'accuracy', 'top_k_accuracy', 'roc_auc', 'roc_auc_ovr', 'roc_auc_ovo', 'roc_auc_ovr_weighted', 'roc_auc_ovo_weighted', 'balanced_accuracy', 'average_precision', 'neg_log_loss', 'neg_brier_score', 'adjusted_rand_score', 'rand_score', 'homogeneity_score', 'completeness_score', 'v_measure_score', 'mutual_info_score', 'adjusted_mutual_info_score', 'normalized_mutual_info_score', 'fowlkes_mallows_score', 'precision', 'precision_macro', 'precision_micro', 'precision_samples', 'precision_weighted', 'recall', 'recall_macro', 'recall_micro', 'recall_samples', 'recall_weighted', 'f1', 'f1_macro', 'f1_micro', 'f1_samples', 'f1_weighted', 'jaccard', 'jaccard_macro', 'jaccard_micro', 'jaccard_samples', 'jaccard_weighted'])"
            ]
          },
          "metadata": {},
          "execution_count": 24
        }
      ]
    },
    {
      "cell_type": "markdown",
      "source": [
        "#**Ejercicio-5.**"
      ],
      "metadata": {
        "id": "Rv7KFq-mC7PS"
      }
    },
    {
      "cell_type": "markdown",
      "source": [
        "Obtener además los diagramas de caja y bigote del mejor modelo con todas las métricas calculadas.\n",
        "Incluye tus conclusiones."
      ],
      "metadata": {
        "id": "qlYF6CkMeS2d"
      }
    },
    {
      "cell_type": "code",
      "source": [
        "#Se obtienen los gráficos de caja del modelo SVM con los mejores parámetros con los métricos de accuracy, f1-score, precision y recall.\n",
        "\n",
        "results_Metrics = list()\n",
        "metric = {'Accuracy':'accuracy', 'Precision':'precision', 'Recall':'recall', 'F1':'f1'}\n",
        "            \n",
        "scores = cross_validate(pipelineSVM, \n",
        "                        Xtv, np.ravel(Ytv),\n",
        "                        scoring=metric,\n",
        "                        cv = cv1,\n",
        "                        return_train_score=True,\n",
        "                        n_jobs=-1)\n",
        "  \n",
        "results_Metrics.append(scores)"
      ],
      "metadata": {
        "id": "jaDj3kawC9B6"
      },
      "execution_count": 25,
      "outputs": []
    },
    {
      "cell_type": "code",
      "source": [
        "#Se crea lista para guardar valores que se desea desplegar de cada métrico en el diagrama de caja.\n",
        "\n",
        "sns.set(rc={'figure.figsize':(8,4)})\n",
        "bpMetrics = list()\n",
        "for i in range(len(results_Metrics)):\n",
        "  r1 = results_Metrics[i][\"test_Accuracy\"]\n",
        "  bpMetrics.append(r1)\n",
        "  r2 = results_Metrics[i][\"test_Precision\"]\n",
        "  bpMetrics.append(r2)\n",
        "  r3 = results_Metrics[i][\"test_Recall\"]\n",
        "  bpMetrics.append(r3)\n",
        "  r4 = results_Metrics[i][\"test_F1\"]\n",
        "  bpMetrics.append(r4)\n",
        "plt.boxplot(bpMetrics, labels = metric, showmeans = True)\n",
        "plt.show()"
      ],
      "metadata": {
        "id": "4tQxQROVC9Us",
        "colab": {
          "base_uri": "https://localhost:8080/",
          "height": 268
        },
        "outputId": "3cc84863-a21d-40fc-a9a4-1db3c3fd6089"
      },
      "execution_count": 26,
      "outputs": [
        {
          "output_type": "display_data",
          "data": {
            "text/plain": [
              "<Figure size 576x288 with 1 Axes>"
            ],
            "image/png": "[encoded data removed]"
          },
          "metadata": {}
        }
      ]
    },
    {
      "cell_type": "markdown",
      "source": [
        "#**Ejercicio-6.**"
      ],
      "metadata": {
        "id": "W2S7LI0NC9wE"
      }
    },
    {
      "cell_type": "markdown",
      "source": [
        "Verifica que el modelo no esté subentrenado o sobreentrenado mediante alguna de las gráficas de\n",
        "curvas de entrenamiento (aumentando la complejidad o aumentando el conjunto de entrenamiento,\n",
        "la que consideres más adecuada). De ser necesario, realiza los ajustes necesarios para evitar alguno\n",
        "de estos problemas."
      ],
      "metadata": {
        "id": "BJQlk576mDge"
      }
    },
    {
      "cell_type": "code",
      "source": [
        "#Curva de aprendizaje aumentando el conjunto de entrenamiento:\n",
        "\n",
        "delta_train = np.linspace(0.1, 1.0, 20)\n",
        "\n",
        "train_sizes, train_scores, valid_scores = learning_curve(estimator= best_SVMparams, \n",
        "                                                         X=Xtv, \n",
        "                                                         y=np.ravel(Ytv),\n",
        "                                                         cv=cv1, \n",
        "                                                         train_sizes=delta_train,\n",
        "                                                         scoring='f1')\n",
        "\n",
        "train_mean = np.mean(train_scores, axis=1)\n",
        "train_std = np.std(train_scores, axis=1)\n",
        "valid_mean = np.mean(valid_scores, axis=1)\n",
        "valid_std = np.std(valid_scores, axis=1)\n",
        "\n",
        "# Curva de entrenamiento con la métrica de f1-score:\n",
        "plt.plot(train_sizes, train_mean, color='blue', marker='o', markersize=5, label='Training')\n",
        "\n",
        "# Curva de validación:\n",
        "plt.plot(train_sizes, valid_mean, color='red', marker='o', markersize=5, label='Validation')\n",
        "\n",
        "plt.title('Curvas de Aprendizaje incrementando el tamaño de la muestra')\n",
        "plt.xlabel('Tamaño del conjunto de entrenamiento')\n",
        "plt.ylabel('F1-score')\n",
        "plt.grid()\n",
        "plt.legend(loc='lower right')\n",
        "plt.show()"
      ],
      "metadata": {
        "id": "x6uBleJUC_AU",
        "colab": {
          "base_uri": "https://localhost:8080/",
          "height": 301
        },
        "outputId": "c06ad41c-8cc6-4a23-a7d8-d98de5d9074b"
      },
      "execution_count": 27,
      "outputs": [
        {
          "output_type": "display_data",
          "data": {
            "text/plain": [
              "<Figure size 576x288 with 1 Axes>"
            ],
            "image/png": "[encoded data removed]"
          },
          "metadata": {}
        }
      ]
    },
    {
      "cell_type": "code",
      "source": [
        "#Curva de aprendizaje considerando que aumenta la complejidad del modelo en este caso el parámetro C:\n",
        "\n",
        "delta_C = np.linspace(.0001, 200.0, 20)\n",
        "\n",
        "train_scores, valid_scores = validation_curve(best_SVMparams, \n",
        "                                              Xtv, \n",
        "                                              np.ravel(Ytv), \n",
        "                                              param_name=\"m__C\", \n",
        "                                              param_range=delta_C,\n",
        "                                              cv=cv1,\n",
        "                                              scoring='f1')\n",
        "\n",
        "\n",
        "train_mean = np.mean(train_scores, axis=1)\n",
        "train_std = np.std(train_scores, axis=1)\n",
        "valid_mean = np.mean(valid_scores, axis=1)\n",
        "valid_std = np.std(valid_scores, axis=1)\n",
        "\n",
        "\n",
        "# Curva de entrenamiento con la métrica de f1-score:\n",
        "plt.plot(delta_C, train_mean, color='blue', marker='o', markersize=5, label='Training')\n",
        "\n",
        "# Curva de validación:\n",
        "plt.plot(delta_C, valid_mean, color='red', marker='o', markersize=5, label='Validation')\n",
        "\n",
        "plt.title('Función validation_curve()')\n",
        "plt.xlabel('Valores del parámetro C de regularization $L_2$')\n",
        "plt.ylabel('F1-score')\n",
        "plt.grid()\n",
        "plt.legend(loc='lower right')\n",
        "plt.show()"
      ],
      "metadata": {
        "id": "n0P_AcyjC_Dh",
        "colab": {
          "base_uri": "https://localhost:8080/",
          "height": 305
        },
        "outputId": "fb268048-8115-493f-919b-b9fa6bf385a9"
      },
      "execution_count": 28,
      "outputs": [
        {
          "output_type": "display_data",
          "data": {
            "text/plain": [
              "<Figure size 576x288 with 1 Axes>"
            ],
            "image/png": "[encoded data removed]"
          },
          "metadata": {}
        }
      ]
    },
    {
      "cell_type": "markdown",
      "source": [
        "Claramente subentrenado."
      ],
      "metadata": {
        "id": "ifz9lmaSsX9c"
      }
    },
    {
      "cell_type": "markdown",
      "source": [
        "#**Ejercicio-7.**"
      ],
      "metadata": {
        "id": "iCNGx4TQ8CFI"
      }
    },
    {
      "cell_type": "markdown",
      "source": [
        "Con los mejores hiperparámetros entontrados encontrar la gráfica de la curva ROC y su área bajo la\n",
        "curva."
      ],
      "metadata": {
        "id": "pjhfWpIMtH0h"
      }
    },
    {
      "cell_type": "code",
      "source": [
        "#Se genera curva ROC con los mejores hiperparámetros.\n",
        "sns.set(rc={'figure.figsize':(9,7)}) \n",
        "\n",
        "fpr, tpr, _ = roc_curve(Ytv, yhatSVM)\n",
        "\n",
        "RocCurveDisplay.from_estimator(best_SVM, Xtv, Ytv)\n",
        "\n",
        "plt.plot([0,0,1,0],[0,1,1,0], 'y--')\n",
        "\n",
        "plt.hlines(tpr, 0, fpr, colors='r', linestyles='dotted')  # Se calcula TPrate y FPrate con base a threshold=0.5\n",
        "plt.vlines(fpr, 0, tpr, colors='r', linestyles='dotted')  # como valor predeteminado\n",
        "plt.show() "
      ],
      "metadata": {
        "id": "ewvwUcJX78y1",
        "colab": {
          "base_uri": "https://localhost:8080/",
          "height": 448
        },
        "outputId": "4acf6d5b-9184-417a-c884-ba8f1bd91930"
      },
      "execution_count": 29,
      "outputs": [
        {
          "output_type": "display_data",
          "data": {
            "text/plain": [
              "<Figure size 648x504 with 1 Axes>"
            ],
            "image/png": "[encoded data removed]"
          },
          "metadata": {}
        }
      ]
    },
    {
      "cell_type": "markdown",
      "source": [
        "Se observa un Área bajo la curva AUC de 0.94."
      ],
      "metadata": {
        "id": "nCDQ95QEiE1W"
      }
    },
    {
      "cell_type": "code",
      "source": [
        "#Se valida el valor de la Tasa de Verdaderos Positivos \"TP rate\":\n",
        "tpr[1].round(3)"
      ],
      "metadata": {
        "colab": {
          "base_uri": "https://localhost:8080/"
        },
        "id": "dJhpnAcSHmop",
        "outputId": "4afd125a-22e9-47ab-b56d-89598cc57127"
      },
      "execution_count": 121,
      "outputs": [
        {
          "output_type": "execute_result",
          "data": {
            "text/plain": [
              "0.935"
            ]
          },
          "metadata": {},
          "execution_count": 121
        }
      ]
    },
    {
      "cell_type": "code",
      "source": [
        "#Se valida el valor de la Tasa de Falsos Positivos \"FP rate\":\n",
        "fpr[1].round(3)"
      ],
      "metadata": {
        "colab": {
          "base_uri": "https://localhost:8080/"
        },
        "id": "uFfTsKLlHpq3",
        "outputId": "aa9d85c8-7e15-49c3-b5b2-6fcbb68c9db2"
      },
      "execution_count": 122,
      "outputs": [
        {
          "output_type": "execute_result",
          "data": {
            "text/plain": [
              "0.212"
            ]
          },
          "metadata": {},
          "execution_count": 122
        }
      ]
    },
    {
      "cell_type": "markdown",
      "source": [
        "#**Ejercicio-8.**"
      ],
      "metadata": {
        "id": "tzQn5NR78GFg"
      }
    },
    {
      "cell_type": "markdown",
      "source": [
        "Encontrar el valor del mejor umbral de predicción del modelo que maximice el valor de la métrica\n",
        "f1-score."
      ],
      "metadata": {
        "id": "NNnWMoLxx9CO"
      }
    },
    {
      "cell_type": "code",
      "source": [
        "#Regresa los TP para un umbral deseado:\n",
        "\n",
        "def fun_thTPrate(th, modelo, x, y):   \n",
        "  p = modelo.predict_proba(x)  \n",
        "  my1s = (Ytv['A15']==1) \n",
        "  pred1s  = p[my1s][:,1]\n",
        "  return (sum(pred1s > th) / sum(my1s)).round(3)"
      ],
      "metadata": {
        "id": "EBKcp0278IQV"
      },
      "execution_count": 123,
      "outputs": []
    },
    {
      "cell_type": "code",
      "source": [
        "fun_thTPrate(0.5, best_SVM, Xtv, Ytv)"
      ],
      "metadata": {
        "colab": {
          "base_uri": "https://localhost:8080/"
        },
        "id": "GR70Hwz4JXYi",
        "outputId": "dff25cdc-3d34-49fb-9b02-f31f246f7c79"
      },
      "execution_count": 124,
      "outputs": [
        {
          "output_type": "execute_result",
          "data": {
            "text/plain": [
              "0.935"
            ]
          },
          "metadata": {},
          "execution_count": 124
        }
      ]
    },
    {
      "cell_type": "code",
      "source": [
        "# Análogo ahora con los FP:\n",
        "\n",
        "def fun_thFPrate(th, modelo, x, y):   \n",
        "  p = modelo.predict_proba(x)\n",
        "  my0s = (Ytv['A15']==0) \n",
        "  pred0s  = p[my0s][:,1]\n",
        "  return (sum(pred0s > th) / sum(my0s)).round(3)"
      ],
      "metadata": {
        "id": "vp8S0PFs8IMR"
      },
      "execution_count": 125,
      "outputs": []
    },
    {
      "cell_type": "code",
      "source": [
        "fun_thFPrate(0.5, best_SVM, Xtv, Ytv) "
      ],
      "metadata": {
        "colab": {
          "base_uri": "https://localhost:8080/"
        },
        "id": "NeRASSaQTqb0",
        "outputId": "773869ad-422a-478b-9e2d-a48566b03271"
      },
      "execution_count": 126,
      "outputs": [
        {
          "output_type": "execute_result",
          "data": {
            "text/plain": [
              "0.212"
            ]
          },
          "metadata": {},
          "execution_count": 126
        }
      ]
    },
    {
      "cell_type": "code",
      "source": [
        "# En este gráfico trata de modificar los valores del umbral deseado \"new_th\" \n",
        "# y el valor del radio \"rr\", de manera que el círculo quede tangente a la ROC-curve \n",
        "# y el nodo del rectángulo naranja coincidan, aproximadamente. \n",
        "\n",
        "# Si ambos errores, FP y FN son igual de costosos, esta coincidencia del nodo y \n",
        "# el círculo equilibra \"aproximadamente\" ambos errores a su mínimo conjunto.\n",
        "\n",
        "new_th = 0.73 # búsqueda del mejor umbral que minimiza el total FP+FN.\n",
        "rr = 0.17   # búsqueda del mejor radio\n",
        "\n",
        "new_TPrate = fun_thTPrate(new_th, best_SVM, Xtv, Ytv)\n",
        "new_FPrate = fun_thFPrate(new_th, best_SVM, Xtv, Ytv)\n",
        "\n",
        "RocCurveDisplay.from_estimator(best_SVM, Xtv, Ytv)\n",
        "plt.plot([0,0,1,0],[0,1,1,0], 'y--')\n",
        "plt.hlines(new_TPrate, 0, new_FPrate, colors='r', linestyles='dotted')  \n",
        "plt.vlines(new_FPrate, 0, new_TPrate, colors='r', linestyles='dotted')  \n",
        "\n",
        "# graficando el pedazo de círculo:\n",
        "an = np.linspace(1.5*np.pi, 2*np.pi, 20)\n",
        "plt.plot(rr*np.cos(an), rr*np.sin(an)+1)\n",
        "plt.axis('equal')\n",
        "plt.show() "
      ],
      "metadata": {
        "colab": {
          "base_uri": "https://localhost:8080/",
          "height": 448
        },
        "id": "Rp1R5wJoUPT5",
        "outputId": "38402e06-d74d-4ee3-c116-d99fb8d561d3"
      },
      "execution_count": 174,
      "outputs": [
        {
          "output_type": "display_data",
          "data": {
            "text/plain": [
              "<Figure size 648x504 with 1 Axes>"
            ],
            "image/png": "[encoded data removed]"
          },
          "metadata": {}
        }
      ]
    },
    {
      "cell_type": "code",
      "source": [
        "#Se genera matriz de confusión para umbral predeterminado de 0.5 y para umbral que maximice métrico f1-score (new_th):\n",
        "pred_pr = best_SVM.predict_proba(Xtv)\n",
        "pred_pr = pred_pr[:,1]\n",
        "\n",
        "pred_bin_newTh = pred_pr > new_th\n",
        "\n",
        "print(\"Matriz de confusión de modelo con umbral original de 0.50:\")\n",
        "cm05 = confusion_matrix(Ytv, yhatSVM)\n",
        "print(cm05)\n",
        "\n",
        "tot05 = cm05.sum()\n",
        "vn05 = 100*cm05[0,0] / tot05\n",
        "fp05 = 100*cm05[0,1] / tot05\n",
        "fn05 = 100*cm05[1,0] / tot05\n",
        "vp05 = 100*cm05[1,1] / tot05\n",
        "\n",
        "f1_05 =  (2*vp05)/((2*vp05)+fp05+fn05)\n",
        "print(\"f1-score con umbral de 0.50:  %.4f \" % f1_05)\n",
        "\n",
        "print(\"Matriz de confusión de modelo con mejor umbral encontrado de %.2f:\" % new_th)\n",
        "cmTh = confusion_matrix(Ytv, pred_bin_newTh)    \n",
        "print(cmTh)\n",
        "\n",
        "tot = cmTh.sum()\n",
        "vnTh = 100*cmTh[0,0] / tot\n",
        "fpTh = 100*cmTh[0,1] / tot\n",
        "fnTh = 100*cmTh[1,0] / tot\n",
        "vpTh = 100*cmTh[1,1] / tot\n",
        "\n",
        "f1_th =  (2*vpTh)/((2*vpTh)+fpTh+fnTh)\n",
        "print(\"f1-score con umbral de  %.2f:\" % new_th, f1_th.round(4))"
      ],
      "metadata": {
        "colab": {
          "base_uri": "https://localhost:8080/"
        },
        "id": "Wu7MWJ6Q_gUj",
        "outputId": "329cc75d-889e-4dfc-d4df-104318625316"
      },
      "execution_count": 197,
      "outputs": [
        {
          "output_type": "stream",
          "name": "stdout",
          "text": [
            "Matriz de confusión de modelo con umbral original de 0.50:\n",
            "[[256  69]\n",
            " [ 17 244]]\n",
            "f1-score con umbral de 0.50:  0.8502 \n",
            "Matriz de confusión de modelo con mejor umbral encontrado de 0.73:\n",
            "[[260  65]\n",
            " [ 17 244]]\n",
            "f1-score con umbral de  0.73: 0.8561\n"
          ]
        }
      ]
    },
    {
      "cell_type": "code",
      "source": [
        "#Se realiza gráfico para poder visualizar ubicación de umbrales, el original de 0.5 (línea verde) y el mejor encontrado para maximizar f1-score (línea roja):\n",
        "p1 = best_SVM.predict_proba(Xtv)\n",
        "my1s = (Ytv['A15']==1) \n",
        "pred1s  = p1[my1s][:,1]\n",
        "\n",
        "p0 = best_SVM.predict_proba(Xtv)\n",
        "my0s = (Ytv['A15']==0) \n",
        "pred0s  = p1[my0s][:,1]\n",
        "\n",
        "r0 = np.random.uniform(-0.1,0.1, size=pred0s.shape[0])    \n",
        "\n",
        "r1 = np.random.uniform(0.7,1.3, size=pred1s.shape[0]) \n",
        "\n",
        "plt.scatter(x=r0, y=pred0s)\n",
        "plt.scatter(x=r1, y=pred1s)\n",
        "plt.hlines(0.5, -0.35,1.35,color='g',linestyles='dashed')\n",
        "plt.hlines(new_th, -0.35,1.35,color='r',linestyles='dashed')\n",
        "plt.show()"
      ],
      "metadata": {
        "colab": {
          "base_uri": "https://localhost:8080/",
          "height": 431
        },
        "id": "wSrnIyj2LfGl",
        "outputId": "5f029d6f-74df-43d2-d65d-ef620d23dff1"
      },
      "execution_count": 178,
      "outputs": [
        {
          "output_type": "display_data",
          "data": {
            "text/plain": [
              "<Figure size 648x504 with 1 Axes>"
            ],
            "image/png": "[encoded data removed]"
          },
          "metadata": {}
        }
      ]
    },
    {
      "cell_type": "markdown",
      "source": [
        "#**Ejercicio-9.**"
      ],
      "metadata": {
        "id": "mASNrZWs8JTh"
      }
    },
    {
      "cell_type": "markdown",
      "source": [
        "Encontrar el valor del mejor umbral de predicción del modelo que maximice el valor de la métrica gmean."
      ],
      "metadata": {
        "id": "O_clTm5Sx-7M"
      }
    },
    {
      "cell_type": "code",
      "source": [
        "#Se define un variable new_th1 para encontrar el mejor umbral que maximice el valor de la métrica g-mean.\n",
        "new_th1 = 0.73\n",
        "\n",
        "pred_pr = best_SVM.predict_proba(Xtv)\n",
        "pred_pr = pred_pr[:,1]\n",
        "\n",
        "pred_bin_newTh = pred_pr > new_th1\n",
        "\n",
        "print(\"Matriz de confusión de modelo con umbral original de 0.50:\")\n",
        "cm05 = confusion_matrix(Ytv, yhatSVM)\n",
        "print(cm05)\n",
        "\n",
        "tot05 = cm05.sum()\n",
        "vn05 = 100*cm05[0,0] / tot05\n",
        "fp05 = 100*cm05[0,1] / tot05\n",
        "fn05 = 100*cm05[1,0] / tot05\n",
        "vp05 = 100*cm05[1,1] / tot05\n",
        "\n",
        "gmean_05 =  np.sqrt(((vp05)/(vp05+fn05))*((vn05)/(vn05+fp05)))\n",
        "print(\"g-mean con umbral de 0.50:  %.4f \" % gmean_05)\n",
        "\n",
        "print(\"Matriz de confusión de modelo con mejor umbral encontrado de %.2f:\" % new_th1)\n",
        "cmTh = confusion_matrix(Ytv, pred_bin_newTh)    \n",
        "print(cmTh)\n",
        "\n",
        "tot = cmTh.sum()\n",
        "vnTh = 100*cmTh[0,0] / tot\n",
        "fpTh = 100*cmTh[0,1] / tot\n",
        "fnTh = 100*cmTh[1,0] / tot\n",
        "vpTh = 100*cmTh[1,1] / tot\n",
        "\n",
        "gmean_th = np.sqrt(((vpTh)/(vpTh+fnTh))*((vnTh)/(vnTh+fpTh)))\n",
        "print(\"g-mean con umbral de  %.2f:\" % new_th1, gmean_th.round(4))"
      ],
      "metadata": {
        "id": "Xr6oe1VF8K_A",
        "colab": {
          "base_uri": "https://localhost:8080/"
        },
        "outputId": "4046b609-9b87-44be-a5a9-18c74c635cf4"
      },
      "execution_count": 207,
      "outputs": [
        {
          "output_type": "stream",
          "name": "stdout",
          "text": [
            "Matriz de confusión de modelo con umbral original de 0.50:\n",
            "[[256  69]\n",
            " [ 17 244]]\n",
            "g-mean con umbral de 0.50:  0.8581 \n",
            "Matriz de confusión de modelo con mejor umbral encontrado de 0.73:\n",
            "[[260  65]\n",
            " [ 17 244]]\n",
            "g-mean con umbral de  0.73: 0.8648\n"
          ]
        }
      ]
    },
    {
      "cell_type": "markdown",
      "source": [
        "Se identificó que el mismo umbral de 0.73 ayudó a maximizar el métrico g-mean."
      ],
      "metadata": {
        "id": "SUHulllVgrV-"
      }
    },
    {
      "cell_type": "markdown",
      "source": [
        "#**Ejercicio-10.**"
      ],
      "metadata": {
        "id": "VUIcDshs8MzG"
      }
    },
    {
      "cell_type": "markdown",
      "source": [
        "Incluye tus conclusiones finales de la actividad."
      ],
      "metadata": {
        "id": "Rs5rXZwjyAr5"
      }
    },
    {
      "cell_type": "code",
      "source": [
        "None"
      ],
      "metadata": {
        "id": "0lKNJNIt8N88"
      },
      "execution_count": 38,
      "outputs": []
    },
    {
      "cell_type": "code",
      "source": [],
      "metadata": {
        "id": "Inkq5YQe8PED"
      },
      "execution_count": 38,
      "outputs": []
    },
    {
      "cell_type": "markdown",
      "source": [
        "###**Fin de la Actividad de la semana 8.**"
      ],
      "metadata": {
        "id": "7ql_r2G-DB_m"
      }
    }
  ]
}